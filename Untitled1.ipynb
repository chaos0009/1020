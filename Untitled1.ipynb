{
  "nbformat": 4,
  "nbformat_minor": 0,
  "metadata": {
    "colab": {
      "provenance": [],
      "authorship_tag": "ABX9TyMqXp1u6wBvohD2PqMngXvs",
      "include_colab_link": true
    },
    "kernelspec": {
      "name": "python3",
      "display_name": "Python 3"
    },
    "language_info": {
      "name": "python"
    }
  },
  "cells": [
    {
      "cell_type": "markdown",
      "metadata": {
        "id": "view-in-github",
        "colab_type": "text"
      },
      "source": [
        "<a href=\"https://colab.research.google.com/github/chaos0009/1020/blob/main/Untitled1.ipynb\" target=\"_parent\"><img src=\"https://colab.research.google.com/assets/colab-badge.svg\" alt=\"Open In Colab\"/></a>"
      ]
    },
    {
      "cell_type": "code",
      "execution_count": 26,
      "metadata": {
        "colab": {
          "base_uri": "https://localhost:8080/"
        },
        "id": "CMDv7lLL87TX",
        "outputId": "a9d14373-6241-4cd9-ed8f-4ce0968a085c"
      },
      "outputs": [
        {
          "output_type": "stream",
          "name": "stdout",
          "text": [
            "範圍4\n",
            "1x1=1\n",
            "1x2=2\n",
            "1x3=3\n",
            "1x4=4\n",
            "2x1=2\n",
            "2x2=4\n",
            "2x3=6\n",
            "2x4=8\n",
            "3x1=3\n",
            "3x2=6\n",
            "3x3=9\n",
            "3x4=12\n",
            "4x1=4\n",
            "4x2=8\n",
            "4x3=12\n",
            "4x4=16\n"
          ]
        }
      ],
      "source": [
        "c = int(input(\"範圍\"))\n",
        "for a in range(1,c+1):\n",
        " for b in range(1,c+1):\n",
        "  print(f\"{a}x{b}={a*b}\")"
      ]
    },
    {
      "cell_type": "code",
      "source": [
        "import random\n",
        "target_number=random.randint(1,100)\n",
        "print(\"歡迎參加猜數字遊戲!\")\n",
        "a=0\n",
        "while a==0:\n",
        "  g = int(input(\"你猜多少?\"))\n",
        "  if g>target_number:\n",
        "    print(\"猜小一點\")\n",
        "  elif g<target_number:\n",
        "    print(\"猜大一點\")\n",
        "  else:\n",
        "    print(\"你猜對了\")\n",
        "    a=1\n",
        "print(\"遊戲結束。\")\n"
      ],
      "metadata": {
        "colab": {
          "base_uri": "https://localhost:8080/"
        },
        "id": "pNkze_ssF1_M",
        "outputId": "b78c78fe-292b-4a79-b830-104f65e25c98"
      },
      "execution_count": 31,
      "outputs": [
        {
          "output_type": "stream",
          "name": "stdout",
          "text": [
            "歡迎參加猜數字遊戲!\n",
            "你猜多少?50\n",
            "猜大一點\n",
            "你猜多少?75\n",
            "猜小一點\n",
            "你猜多少?68\n",
            "猜大一點\n",
            "你猜多少?71\n",
            "猜小一點\n",
            "你猜多少?69\n",
            "你猜對了\n",
            "遊戲結束。\n"
          ]
        }
      ]
    }
  ]
}